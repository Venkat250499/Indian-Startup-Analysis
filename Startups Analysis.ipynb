{
 "cells": [
  {
   "cell_type": "code",
   "execution_count": 782,
   "id": "638410d5-4177-4e7f-8d94-b894cfcefd2e",
   "metadata": {},
   "outputs": [],
   "source": [
    "#Import libraries for analysis\n",
    "import numpy as np\n",
    "import pandas as pd\n",
    "import matplotlib.pyplot as plt\n",
    "%matplotlib inline\n",
    "import seaborn as sns"
   ]
  },
  {
   "cell_type": "markdown",
   "id": "d8c90469-6d2b-469f-9bbd-027def9e0930",
   "metadata": {},
   "source": [
    "# Importing data from CSV file.\n"
   ]
  },
  {
   "cell_type": "code",
   "execution_count": 784,
   "id": "b9067474-a5f6-4900-8f18-0ee95ce96556",
   "metadata": {},
   "outputs": [],
   "source": [
    "df=pd.read_csv('Indian Startup.csv')"
   ]
  },
  {
   "cell_type": "markdown",
   "id": "a139c3ea-c667-437c-9f5c-cacde80547fc",
   "metadata": {},
   "source": [
    "# Data Cleaning"
   ]
  },
  {
   "cell_type": "code",
   "execution_count": 785,
   "id": "23da416a-bcba-47a5-96d0-190b701ce0e0",
   "metadata": {},
   "outputs": [
    {
     "data": {
      "text/plain": [
       "(1208, 10)"
      ]
     },
     "execution_count": 785,
     "metadata": {},
     "output_type": "execute_result"
    }
   ],
   "source": [
    "#To Find number of Rows, Columns of data\n",
    "df.shape"
   ]
  },
  {
   "cell_type": "code",
   "execution_count": 786,
   "id": "9f962e90-20fa-4b21-8100-f5b6ca5e949f",
   "metadata": {},
   "outputs": [
    {
     "data": {
      "text/html": [
       "<div>\n",
       "<style scoped>\n",
       "    .dataframe tbody tr th:only-of-type {\n",
       "        vertical-align: middle;\n",
       "    }\n",
       "\n",
       "    .dataframe tbody tr th {\n",
       "        vertical-align: top;\n",
       "    }\n",
       "\n",
       "    .dataframe thead th {\n",
       "        text-align: right;\n",
       "    }\n",
       "</style>\n",
       "<table border=\"1\" class=\"dataframe\">\n",
       "  <thead>\n",
       "    <tr style=\"text-align: right;\">\n",
       "      <th></th>\n",
       "      <th>Company/Brand</th>\n",
       "      <th>Founded</th>\n",
       "      <th>Headquarters</th>\n",
       "      <th>Sector</th>\n",
       "      <th>What it does</th>\n",
       "      <th>Founder/s</th>\n",
       "      <th>Investor/s</th>\n",
       "      <th>Amount</th>\n",
       "      <th>Stage</th>\n",
       "      <th>Date</th>\n",
       "    </tr>\n",
       "  </thead>\n",
       "  <tbody>\n",
       "    <tr>\n",
       "      <th>0</th>\n",
       "      <td>CollegeDekho</td>\n",
       "      <td>2015</td>\n",
       "      <td>Gurgaon</td>\n",
       "      <td>E-learning</td>\n",
       "      <td>Collegedekho.com is Student’s Partner, Friend ...</td>\n",
       "      <td>Ruchir Arora</td>\n",
       "      <td>Disrupt ADQ, QIC</td>\n",
       "      <td>$35,000,000</td>\n",
       "      <td>Series B</td>\n",
       "      <td>Dec-21</td>\n",
       "    </tr>\n",
       "    <tr>\n",
       "      <th>1</th>\n",
       "      <td>BOX8</td>\n",
       "      <td>2012</td>\n",
       "      <td>Mumbai</td>\n",
       "      <td>Food &amp; Beverages</td>\n",
       "      <td>India's Largest Desi Meals Brand</td>\n",
       "      <td>Anshul Gupta, Amit Raj</td>\n",
       "      <td>Tiger Global</td>\n",
       "      <td>$40,000,000</td>\n",
       "      <td>NaN</td>\n",
       "      <td>Dec-21</td>\n",
       "    </tr>\n",
       "    <tr>\n",
       "      <th>2</th>\n",
       "      <td>Simpl</td>\n",
       "      <td>2015</td>\n",
       "      <td>Bangalore</td>\n",
       "      <td>Consumer Services</td>\n",
       "      <td>Simpl empowers merchants to build trusted rela...</td>\n",
       "      <td>Nitya, Chaitra Chidanand</td>\n",
       "      <td>Valar Ventures, IA Ventures</td>\n",
       "      <td>$40,000,000</td>\n",
       "      <td>Series B</td>\n",
       "      <td>Dec-21</td>\n",
       "    </tr>\n",
       "    <tr>\n",
       "      <th>3</th>\n",
       "      <td>8i Ventures</td>\n",
       "      <td>2018</td>\n",
       "      <td>Mumbai</td>\n",
       "      <td>Venture Capital &amp; Private Equity</td>\n",
       "      <td>8i is a Mumbai &amp; Bangalore based early stage f...</td>\n",
       "      <td>Vikram Chachra</td>\n",
       "      <td>NaN</td>\n",
       "      <td>$50,000,000</td>\n",
       "      <td>NaN</td>\n",
       "      <td>Dec-21</td>\n",
       "    </tr>\n",
       "    <tr>\n",
       "      <th>4</th>\n",
       "      <td>PayGlocal</td>\n",
       "      <td>2021</td>\n",
       "      <td>Bangalore</td>\n",
       "      <td>Financial Services</td>\n",
       "      <td>PayGlocal is a FinTech solving for global paym...</td>\n",
       "      <td>Prachi Dharani, Rohit Sukhija, Yogesh Lokhande</td>\n",
       "      <td>Sequoia Capital India</td>\n",
       "      <td>$4,900,000</td>\n",
       "      <td>Series A</td>\n",
       "      <td>Dec-21</td>\n",
       "    </tr>\n",
       "  </tbody>\n",
       "</table>\n",
       "</div>"
      ],
      "text/plain": [
       "  Company/Brand  Founded Headquarters                            Sector  \\\n",
       "0  CollegeDekho     2015      Gurgaon                        E-learning   \n",
       "1          BOX8     2012       Mumbai                  Food & Beverages   \n",
       "2         Simpl     2015    Bangalore                 Consumer Services   \n",
       "3   8i Ventures     2018       Mumbai  Venture Capital & Private Equity   \n",
       "4     PayGlocal     2021    Bangalore                Financial Services   \n",
       "\n",
       "                                        What it does  \\\n",
       "0  Collegedekho.com is Student’s Partner, Friend ...   \n",
       "1                   India's Largest Desi Meals Brand   \n",
       "2  Simpl empowers merchants to build trusted rela...   \n",
       "3  8i is a Mumbai & Bangalore based early stage f...   \n",
       "4  PayGlocal is a FinTech solving for global paym...   \n",
       "\n",
       "                                        Founder/s  \\\n",
       "0                                    Ruchir Arora   \n",
       "1                          Anshul Gupta, Amit Raj   \n",
       "2                        Nitya, Chaitra Chidanand   \n",
       "3                                  Vikram Chachra   \n",
       "4  Prachi Dharani, Rohit Sukhija, Yogesh Lokhande   \n",
       "\n",
       "                    Investor/s         Amount     Stage   Date   \n",
       "0             Disrupt ADQ, QIC   $35,000,000   Series B  Dec-21  \n",
       "1                 Tiger Global   $40,000,000        NaN  Dec-21  \n",
       "2  Valar Ventures, IA Ventures   $40,000,000   Series B  Dec-21  \n",
       "3                          NaN   $50,000,000        NaN  Dec-21  \n",
       "4        Sequoia Capital India    $4,900,000   Series A  Dec-21  "
      ]
     },
     "execution_count": 786,
     "metadata": {},
     "output_type": "execute_result"
    }
   ],
   "source": [
    "df.head()"
   ]
  },
  {
   "cell_type": "code",
   "execution_count": 787,
   "id": "a44d46bf-93d3-48d0-a153-a8951e93f038",
   "metadata": {},
   "outputs": [
    {
     "name": "stdout",
     "output_type": "stream",
     "text": [
      "<class 'pandas.core.frame.DataFrame'>\n",
      "RangeIndex: 1208 entries, 0 to 1207\n",
      "Data columns (total 10 columns):\n",
      " #   Column         Non-Null Count  Dtype \n",
      "---  ------         --------------  ----- \n",
      " 0   Company/Brand  1208 non-null   object\n",
      " 1   Founded        1208 non-null   int64 \n",
      " 2   Headquarters   1207 non-null   object\n",
      " 3   Sector         1208 non-null   object\n",
      " 4   What it does   1208 non-null   object\n",
      " 5   Founder/s      1204 non-null   object\n",
      " 6   Investor/s     1140 non-null   object\n",
      " 7   Amount         1064 non-null   object\n",
      " 8   Stage          780 non-null    object\n",
      " 9   Date           1208 non-null   object\n",
      "dtypes: int64(1), object(9)\n",
      "memory usage: 94.5+ KB\n"
     ]
    }
   ],
   "source": [
    "df.info()"
   ]
  },
  {
   "cell_type": "code",
   "execution_count": 788,
   "id": "e972429e-2fcb-4cfd-a356-b502a7611991",
   "metadata": {},
   "outputs": [],
   "source": [
    "#Removed Stage Column which is not required for the analysis\n",
    "df.drop('Stage',axis=1,inplace=True)"
   ]
  },
  {
   "cell_type": "code",
   "execution_count": 791,
   "id": "768fda6b-c7cd-4426-87e7-28c6ccc67dc7",
   "metadata": {},
   "outputs": [
    {
     "data": {
      "text/html": [
       "<div>\n",
       "<style scoped>\n",
       "    .dataframe tbody tr th:only-of-type {\n",
       "        vertical-align: middle;\n",
       "    }\n",
       "\n",
       "    .dataframe tbody tr th {\n",
       "        vertical-align: top;\n",
       "    }\n",
       "\n",
       "    .dataframe thead th {\n",
       "        text-align: right;\n",
       "    }\n",
       "</style>\n",
       "<table border=\"1\" class=\"dataframe\">\n",
       "  <thead>\n",
       "    <tr style=\"text-align: right;\">\n",
       "      <th></th>\n",
       "      <th>Company/Brand</th>\n",
       "      <th>Founded</th>\n",
       "      <th>Headquarters</th>\n",
       "      <th>Sector</th>\n",
       "      <th>What it does</th>\n",
       "      <th>Founder/s</th>\n",
       "      <th>Investor/s</th>\n",
       "      <th>Amount</th>\n",
       "      <th>Date</th>\n",
       "    </tr>\n",
       "  </thead>\n",
       "  <tbody>\n",
       "    <tr>\n",
       "      <th>0</th>\n",
       "      <td>CollegeDekho</td>\n",
       "      <td>2015</td>\n",
       "      <td>Gurgaon</td>\n",
       "      <td>E-learning</td>\n",
       "      <td>Collegedekho.com is Student’s Partner, Friend ...</td>\n",
       "      <td>Ruchir Arora</td>\n",
       "      <td>Disrupt ADQ, QIC</td>\n",
       "      <td>$35,000,000</td>\n",
       "      <td>Dec-21</td>\n",
       "    </tr>\n",
       "    <tr>\n",
       "      <th>1</th>\n",
       "      <td>BOX8</td>\n",
       "      <td>2012</td>\n",
       "      <td>Mumbai</td>\n",
       "      <td>Food &amp; Beverages</td>\n",
       "      <td>India's Largest Desi Meals Brand</td>\n",
       "      <td>Anshul Gupta, Amit Raj</td>\n",
       "      <td>Tiger Global</td>\n",
       "      <td>$40,000,000</td>\n",
       "      <td>Dec-21</td>\n",
       "    </tr>\n",
       "    <tr>\n",
       "      <th>2</th>\n",
       "      <td>Simpl</td>\n",
       "      <td>2015</td>\n",
       "      <td>Bangalore</td>\n",
       "      <td>Consumer Services</td>\n",
       "      <td>Simpl empowers merchants to build trusted rela...</td>\n",
       "      <td>Nitya, Chaitra Chidanand</td>\n",
       "      <td>Valar Ventures, IA Ventures</td>\n",
       "      <td>$40,000,000</td>\n",
       "      <td>Dec-21</td>\n",
       "    </tr>\n",
       "    <tr>\n",
       "      <th>3</th>\n",
       "      <td>8i Ventures</td>\n",
       "      <td>2018</td>\n",
       "      <td>Mumbai</td>\n",
       "      <td>Venture Capital &amp; Private Equity</td>\n",
       "      <td>8i is a Mumbai &amp; Bangalore based early stage f...</td>\n",
       "      <td>Vikram Chachra</td>\n",
       "      <td>NaN</td>\n",
       "      <td>$50,000,000</td>\n",
       "      <td>Dec-21</td>\n",
       "    </tr>\n",
       "    <tr>\n",
       "      <th>4</th>\n",
       "      <td>PayGlocal</td>\n",
       "      <td>2021</td>\n",
       "      <td>Bangalore</td>\n",
       "      <td>Financial Services</td>\n",
       "      <td>PayGlocal is a FinTech solving for global paym...</td>\n",
       "      <td>Prachi Dharani, Rohit Sukhija, Yogesh Lokhande</td>\n",
       "      <td>Sequoia Capital India</td>\n",
       "      <td>$4,900,000</td>\n",
       "      <td>Dec-21</td>\n",
       "    </tr>\n",
       "  </tbody>\n",
       "</table>\n",
       "</div>"
      ],
      "text/plain": [
       "  Company/Brand  Founded Headquarters                            Sector  \\\n",
       "0  CollegeDekho     2015      Gurgaon                        E-learning   \n",
       "1          BOX8     2012       Mumbai                  Food & Beverages   \n",
       "2         Simpl     2015    Bangalore                 Consumer Services   \n",
       "3   8i Ventures     2018       Mumbai  Venture Capital & Private Equity   \n",
       "4     PayGlocal     2021    Bangalore                Financial Services   \n",
       "\n",
       "                                        What it does  \\\n",
       "0  Collegedekho.com is Student’s Partner, Friend ...   \n",
       "1                   India's Largest Desi Meals Brand   \n",
       "2  Simpl empowers merchants to build trusted rela...   \n",
       "3  8i is a Mumbai & Bangalore based early stage f...   \n",
       "4  PayGlocal is a FinTech solving for global paym...   \n",
       "\n",
       "                                        Founder/s  \\\n",
       "0                                    Ruchir Arora   \n",
       "1                          Anshul Gupta, Amit Raj   \n",
       "2                        Nitya, Chaitra Chidanand   \n",
       "3                                  Vikram Chachra   \n",
       "4  Prachi Dharani, Rohit Sukhija, Yogesh Lokhande   \n",
       "\n",
       "                    Investor/s         Amount   Date   \n",
       "0             Disrupt ADQ, QIC   $35,000,000   Dec-21  \n",
       "1                 Tiger Global   $40,000,000   Dec-21  \n",
       "2  Valar Ventures, IA Ventures   $40,000,000   Dec-21  \n",
       "3                          NaN   $50,000,000   Dec-21  \n",
       "4        Sequoia Capital India    $4,900,000   Dec-21  "
      ]
     },
     "execution_count": 791,
     "metadata": {},
     "output_type": "execute_result"
    }
   ],
   "source": [
    "df.head()"
   ]
  },
  {
   "cell_type": "code",
   "execution_count": 792,
   "id": "29d4c460-6fef-4132-b5e8-6c7560bd95e8",
   "metadata": {},
   "outputs": [
    {
     "data": {
      "text/plain": [
       "Company/Brand      0\n",
       "Founded            0\n",
       "Headquarters       1\n",
       "Sector             0\n",
       "What it does       0\n",
       "Founder/s          4\n",
       "Investor/s        68\n",
       "Amount           144\n",
       "Date               0\n",
       "dtype: int64"
      ]
     },
     "execution_count": 792,
     "metadata": {},
     "output_type": "execute_result"
    }
   ],
   "source": [
    "#To find number of null values from each column\n",
    "pd.isnull(df).sum()"
   ]
  },
  {
   "cell_type": "code",
   "execution_count": 793,
   "id": "8e00bffc-1114-4405-abd5-be8fe77f3846",
   "metadata": {},
   "outputs": [
    {
     "data": {
      "text/plain": [
       "(1208, 9)"
      ]
     },
     "execution_count": 793,
     "metadata": {},
     "output_type": "execute_result"
    }
   ],
   "source": [
    "df.shape"
   ]
  },
  {
   "cell_type": "code",
   "execution_count": 794,
   "id": "c914d3b7-39b8-4a21-9c4a-8e80e7659429",
   "metadata": {},
   "outputs": [],
   "source": [
    "#Renaming Column Names\n",
    "df.rename(columns={'Company/Brand':'Company','Founded':'Year Founded'},inplace=True)"
   ]
  },
  {
   "cell_type": "code",
   "execution_count": 797,
   "id": "bb9b464b-0136-4e2e-bea8-07f74c79c9e6",
   "metadata": {},
   "outputs": [],
   "source": [
    "#Converting Datatype of Year Founded\n",
    "df['Year Founded'] =df['Year Founded'].astype('int')"
   ]
  },
  {
   "cell_type": "code",
   "execution_count": 799,
   "id": "62647d75-8b4f-4002-852c-1d520b2d75a1",
   "metadata": {},
   "outputs": [
    {
     "data": {
      "text/html": [
       "<div>\n",
       "<style scoped>\n",
       "    .dataframe tbody tr th:only-of-type {\n",
       "        vertical-align: middle;\n",
       "    }\n",
       "\n",
       "    .dataframe tbody tr th {\n",
       "        vertical-align: top;\n",
       "    }\n",
       "\n",
       "    .dataframe thead th {\n",
       "        text-align: right;\n",
       "    }\n",
       "</style>\n",
       "<table border=\"1\" class=\"dataframe\">\n",
       "  <thead>\n",
       "    <tr style=\"text-align: right;\">\n",
       "      <th></th>\n",
       "      <th>Company</th>\n",
       "      <th>Year Founded</th>\n",
       "      <th>Headquarters</th>\n",
       "      <th>Sector</th>\n",
       "      <th>What it does</th>\n",
       "      <th>Founder/s</th>\n",
       "      <th>Investor/s</th>\n",
       "      <th>Amount</th>\n",
       "      <th>Date</th>\n",
       "    </tr>\n",
       "  </thead>\n",
       "  <tbody>\n",
       "    <tr>\n",
       "      <th>0</th>\n",
       "      <td>CollegeDekho</td>\n",
       "      <td>2015</td>\n",
       "      <td>Gurgaon</td>\n",
       "      <td>E-learning</td>\n",
       "      <td>Collegedekho.com is Student’s Partner, Friend ...</td>\n",
       "      <td>Ruchir Arora</td>\n",
       "      <td>Disrupt ADQ, QIC</td>\n",
       "      <td>$35,000,000</td>\n",
       "      <td>Dec-21</td>\n",
       "    </tr>\n",
       "    <tr>\n",
       "      <th>1</th>\n",
       "      <td>BOX8</td>\n",
       "      <td>2012</td>\n",
       "      <td>Mumbai</td>\n",
       "      <td>Food &amp; Beverages</td>\n",
       "      <td>India's Largest Desi Meals Brand</td>\n",
       "      <td>Anshul Gupta, Amit Raj</td>\n",
       "      <td>Tiger Global</td>\n",
       "      <td>$40,000,000</td>\n",
       "      <td>Dec-21</td>\n",
       "    </tr>\n",
       "    <tr>\n",
       "      <th>2</th>\n",
       "      <td>Simpl</td>\n",
       "      <td>2015</td>\n",
       "      <td>Bangalore</td>\n",
       "      <td>Consumer Services</td>\n",
       "      <td>Simpl empowers merchants to build trusted rela...</td>\n",
       "      <td>Nitya, Chaitra Chidanand</td>\n",
       "      <td>Valar Ventures, IA Ventures</td>\n",
       "      <td>$40,000,000</td>\n",
       "      <td>Dec-21</td>\n",
       "    </tr>\n",
       "    <tr>\n",
       "      <th>3</th>\n",
       "      <td>8i Ventures</td>\n",
       "      <td>2018</td>\n",
       "      <td>Mumbai</td>\n",
       "      <td>Venture Capital &amp; Private Equity</td>\n",
       "      <td>8i is a Mumbai &amp; Bangalore based early stage f...</td>\n",
       "      <td>Vikram Chachra</td>\n",
       "      <td>NaN</td>\n",
       "      <td>$50,000,000</td>\n",
       "      <td>Dec-21</td>\n",
       "    </tr>\n",
       "    <tr>\n",
       "      <th>4</th>\n",
       "      <td>PayGlocal</td>\n",
       "      <td>2021</td>\n",
       "      <td>Bangalore</td>\n",
       "      <td>Financial Services</td>\n",
       "      <td>PayGlocal is a FinTech solving for global paym...</td>\n",
       "      <td>Prachi Dharani, Rohit Sukhija, Yogesh Lokhande</td>\n",
       "      <td>Sequoia Capital India</td>\n",
       "      <td>$4,900,000</td>\n",
       "      <td>Dec-21</td>\n",
       "    </tr>\n",
       "  </tbody>\n",
       "</table>\n",
       "</div>"
      ],
      "text/plain": [
       "        Company  Year Founded Headquarters                            Sector  \\\n",
       "0  CollegeDekho          2015      Gurgaon                        E-learning   \n",
       "1          BOX8          2012       Mumbai                  Food & Beverages   \n",
       "2         Simpl          2015    Bangalore                 Consumer Services   \n",
       "3   8i Ventures          2018       Mumbai  Venture Capital & Private Equity   \n",
       "4     PayGlocal          2021    Bangalore                Financial Services   \n",
       "\n",
       "                                        What it does  \\\n",
       "0  Collegedekho.com is Student’s Partner, Friend ...   \n",
       "1                   India's Largest Desi Meals Brand   \n",
       "2  Simpl empowers merchants to build trusted rela...   \n",
       "3  8i is a Mumbai & Bangalore based early stage f...   \n",
       "4  PayGlocal is a FinTech solving for global paym...   \n",
       "\n",
       "                                        Founder/s  \\\n",
       "0                                    Ruchir Arora   \n",
       "1                          Anshul Gupta, Amit Raj   \n",
       "2                        Nitya, Chaitra Chidanand   \n",
       "3                                  Vikram Chachra   \n",
       "4  Prachi Dharani, Rohit Sukhija, Yogesh Lokhande   \n",
       "\n",
       "                    Investor/s         Amount   Date   \n",
       "0             Disrupt ADQ, QIC   $35,000,000   Dec-21  \n",
       "1                 Tiger Global   $40,000,000   Dec-21  \n",
       "2  Valar Ventures, IA Ventures   $40,000,000   Dec-21  \n",
       "3                          NaN   $50,000,000   Dec-21  \n",
       "4        Sequoia Capital India    $4,900,000   Dec-21  "
      ]
     },
     "execution_count": 799,
     "metadata": {},
     "output_type": "execute_result"
    }
   ],
   "source": [
    "df.head()"
   ]
  },
  {
   "cell_type": "code",
   "execution_count": 800,
   "id": "e39210a0-cb1d-4f70-8ac2-4a0cc05a66bd",
   "metadata": {},
   "outputs": [
    {
     "data": {
      "text/html": [
       "<div>\n",
       "<style scoped>\n",
       "    .dataframe tbody tr th:only-of-type {\n",
       "        vertical-align: middle;\n",
       "    }\n",
       "\n",
       "    .dataframe tbody tr th {\n",
       "        vertical-align: top;\n",
       "    }\n",
       "\n",
       "    .dataframe thead th {\n",
       "        text-align: right;\n",
       "    }\n",
       "</style>\n",
       "<table border=\"1\" class=\"dataframe\">\n",
       "  <thead>\n",
       "    <tr style=\"text-align: right;\">\n",
       "      <th></th>\n",
       "      <th>Company</th>\n",
       "      <th>Year Founded</th>\n",
       "      <th>Headquarters</th>\n",
       "      <th>Sector</th>\n",
       "      <th>What it does</th>\n",
       "      <th>Founder/s</th>\n",
       "      <th>Investor/s</th>\n",
       "      <th>Amount</th>\n",
       "      <th>Date</th>\n",
       "    </tr>\n",
       "  </thead>\n",
       "  <tbody>\n",
       "    <tr>\n",
       "      <th>0</th>\n",
       "      <td>CollegeDekho</td>\n",
       "      <td>2015</td>\n",
       "      <td>Gurgaon</td>\n",
       "      <td>E-learning</td>\n",
       "      <td>Collegedekho.com is Student’s Partner, Friend ...</td>\n",
       "      <td>Ruchir Arora</td>\n",
       "      <td>Disrupt ADQ, QIC</td>\n",
       "      <td>35000000.0</td>\n",
       "      <td>Dec-21</td>\n",
       "    </tr>\n",
       "    <tr>\n",
       "      <th>1</th>\n",
       "      <td>BOX8</td>\n",
       "      <td>2012</td>\n",
       "      <td>Mumbai</td>\n",
       "      <td>Food &amp; Beverages</td>\n",
       "      <td>India's Largest Desi Meals Brand</td>\n",
       "      <td>Anshul Gupta, Amit Raj</td>\n",
       "      <td>Tiger Global</td>\n",
       "      <td>40000000.0</td>\n",
       "      <td>Dec-21</td>\n",
       "    </tr>\n",
       "    <tr>\n",
       "      <th>2</th>\n",
       "      <td>Simpl</td>\n",
       "      <td>2015</td>\n",
       "      <td>Bangalore</td>\n",
       "      <td>Consumer Services</td>\n",
       "      <td>Simpl empowers merchants to build trusted rela...</td>\n",
       "      <td>Nitya, Chaitra Chidanand</td>\n",
       "      <td>Valar Ventures, IA Ventures</td>\n",
       "      <td>40000000.0</td>\n",
       "      <td>Dec-21</td>\n",
       "    </tr>\n",
       "    <tr>\n",
       "      <th>3</th>\n",
       "      <td>8i Ventures</td>\n",
       "      <td>2018</td>\n",
       "      <td>Mumbai</td>\n",
       "      <td>Venture Capital &amp; Private Equity</td>\n",
       "      <td>8i is a Mumbai &amp; Bangalore based early stage f...</td>\n",
       "      <td>Vikram Chachra</td>\n",
       "      <td>NaN</td>\n",
       "      <td>50000000.0</td>\n",
       "      <td>Dec-21</td>\n",
       "    </tr>\n",
       "    <tr>\n",
       "      <th>4</th>\n",
       "      <td>PayGlocal</td>\n",
       "      <td>2021</td>\n",
       "      <td>Bangalore</td>\n",
       "      <td>Financial Services</td>\n",
       "      <td>PayGlocal is a FinTech solving for global paym...</td>\n",
       "      <td>Prachi Dharani, Rohit Sukhija, Yogesh Lokhande</td>\n",
       "      <td>Sequoia Capital India</td>\n",
       "      <td>4900000.0</td>\n",
       "      <td>Dec-21</td>\n",
       "    </tr>\n",
       "  </tbody>\n",
       "</table>\n",
       "</div>"
      ],
      "text/plain": [
       "        Company  Year Founded Headquarters                            Sector  \\\n",
       "0  CollegeDekho          2015      Gurgaon                        E-learning   \n",
       "1          BOX8          2012       Mumbai                  Food & Beverages   \n",
       "2         Simpl          2015    Bangalore                 Consumer Services   \n",
       "3   8i Ventures          2018       Mumbai  Venture Capital & Private Equity   \n",
       "4     PayGlocal          2021    Bangalore                Financial Services   \n",
       "\n",
       "                                        What it does  \\\n",
       "0  Collegedekho.com is Student’s Partner, Friend ...   \n",
       "1                   India's Largest Desi Meals Brand   \n",
       "2  Simpl empowers merchants to build trusted rela...   \n",
       "3  8i is a Mumbai & Bangalore based early stage f...   \n",
       "4  PayGlocal is a FinTech solving for global paym...   \n",
       "\n",
       "                                        Founder/s  \\\n",
       "0                                    Ruchir Arora   \n",
       "1                          Anshul Gupta, Amit Raj   \n",
       "2                        Nitya, Chaitra Chidanand   \n",
       "3                                  Vikram Chachra   \n",
       "4  Prachi Dharani, Rohit Sukhija, Yogesh Lokhande   \n",
       "\n",
       "                    Investor/s      Amount   Date   \n",
       "0             Disrupt ADQ, QIC  35000000.0  Dec-21  \n",
       "1                 Tiger Global  40000000.0  Dec-21  \n",
       "2  Valar Ventures, IA Ventures  40000000.0  Dec-21  \n",
       "3                          NaN  50000000.0  Dec-21  \n",
       "4        Sequoia Capital India   4900000.0  Dec-21  "
      ]
     },
     "execution_count": 800,
     "metadata": {},
     "output_type": "execute_result"
    }
   ],
   "source": [
    "#Removed $ from Amount column, replaced ',',converted object data to numeric\n",
    "df['Amount'] = pd.DataFrame(df['Amount'].str.replace('$',''))\n",
    "df['Amount'] = df['Amount'].str.replace(',','',regex = True)\n",
    "df['Amount'] = pd.to_numeric(df['Amount'])\n",
    "df.head()"
   ]
  },
  {
   "cell_type": "markdown",
   "id": "d8d5091c-4d89-4c99-b8a8-bf807fa67be8",
   "metadata": {},
   "source": [
    "# Data Analysis"
   ]
  },
  {
   "cell_type": "markdown",
   "id": "d7ea5943-a481-41c2-99fe-0a353ba73055",
   "metadata": {},
   "source": [
    "# Total Number of Startups"
   ]
  },
  {
   "cell_type": "code",
   "execution_count": 801,
   "id": "296f7828-f993-4848-b3c2-9f75667e743d",
   "metadata": {},
   "outputs": [
    {
     "name": "stdout",
     "output_type": "stream",
     "text": [
      "Total Number Of Startups 1208\n"
     ]
    }
   ],
   "source": [
    "#To Find Total Number Of Startups\n",
    "Total_Companies=df['Company'].value_counts().sum()\n",
    "print(f'Total Number Of Startups {Total_Companies}')"
   ]
  },
  {
   "cell_type": "markdown",
   "id": "a4c48ba8-4252-4ecb-a822-62bf25c88c29",
   "metadata": {},
   "source": [
    "# Top 10 Cities for Startups"
   ]
  },
  {
   "cell_type": "code",
   "execution_count": 802,
   "id": "b4b2f5ed-dfb0-4bed-83f8-886dfe788954",
   "metadata": {},
   "outputs": [
    {
     "data": {
      "text/plain": [
       "Text(0, 0.5, 'City')"
      ]
     },
     "execution_count": 802,
     "metadata": {},
     "output_type": "execute_result"
    },
    {
     "data": {
      "image/png": "[encoded data removed]",
      "text/plain": [
       "<Figure size 1000x800 with 1 Axes>"
      ]
     },
     "metadata": {},
     "output_type": "display_data"
    }
   ],
   "source": [
    "#To Get Top 10 Cities for Startups\n",
    "Cities['Headquarters'] = pd.DataFrame(df['Headquarters'].value_counts().sort_values(ascending = False))\n",
    "Cities= Cities.head(10)\n",
    "plt.figure(figsize = (10,8))\n",
    "axis = sns.barplot(x = Cities['Headquarters'], y = Cities.index)\n",
    "axis.bar_label(axis.containers[0])\n",
    "plt.title('Top 10 Cities for Startups')\n",
    "plt.xlabel('No of Startups')\n",
    "plt.ylabel('City')"
   ]
  },
  {
   "cell_type": "markdown",
   "id": "fd53c609-af48-4515-8e3a-55c19be78965",
   "metadata": {},
   "source": [
    "# Top 10 Sectors for Startups"
   ]
  },
  {
   "cell_type": "code",
   "execution_count": 745,
   "id": "945d60d1-c6d4-4256-ab22-0a95e3f0956c",
   "metadata": {},
   "outputs": [
    {
     "data": {
      "text/plain": [
       "Text(0.5, 0, 'No of Startups')"
      ]
     },
     "execution_count": 745,
     "metadata": {},
     "output_type": "execute_result"
    },
    {
     "data": {
      "image/png": "[encoded data removed]",
      "text/plain": [
       "<Figure size 700x400 with 1 Axes>"
      ]
     },
     "metadata": {},
     "output_type": "display_data"
    }
   ],
   "source": [
    "#To Get Top 10 Sectors for Startups\n",
    "Sectors['Sector']=pd.DataFrame(df[\"Sector\"].value_counts().sort_values(ascending=False))\n",
    "Sectors=Sectors.head(10)\n",
    "plt.figure(figsize=(7,4))\n",
    "axis=sns.barplot(x=Sectors['Sector'],y=Sectors.index)\n",
    "axis.bar_label(axis.containers[0])\n",
    "plt.title(\"Top 10 sectors for startups\")\n",
    "plt.xlabel('No of Startups')"
   ]
  },
  {
   "cell_type": "markdown",
   "id": "084826d0-4c83-4508-9ce4-2273c428d655",
   "metadata": {},
   "source": [
    "# Startups By year"
   ]
  },
  {
   "cell_type": "code",
   "execution_count": 747,
   "id": "431aacfa-8afe-477f-8c1e-a406ef118964",
   "metadata": {},
   "outputs": [
    {
     "data": {
      "image/png": "[encoded data removed]",
      "text/plain": [
       "<Figure size 1000x800 with 1 Axes>"
      ]
     },
     "metadata": {},
     "output_type": "display_data"
    },
    {
     "name": "stdout",
     "output_type": "stream",
     "text": [
      "Maximum No of Startups founded in year 2020\n"
     ]
    }
   ],
   "source": [
    "#To get year wise startups\n",
    "plt.figure(figsize = (10,8))\n",
    "sns.histplot(df['Year Founded'],fill=True,kde=True)\n",
    "plt.title('Year wise Startups founded')\n",
    "plt.ylabel('No of Startups')\n",
    "plt.show()\n",
    "max_startups_year = round(df['Year Founded'].value_counts().sort_values(ascending = False).idxmax())\n",
    "print(f'Maximum No of Startups founded in year {max_startups_year}')"
   ]
  },
  {
   "cell_type": "markdown",
   "id": "1233b3bb-b9e9-4b51-84da-8450cbf8e7b1",
   "metadata": {},
   "source": [
    "# Top 5 Networth Companies"
   ]
  },
  {
   "cell_type": "code",
   "execution_count": 812,
   "id": "ede3c73d-4c42-468f-99ca-9726987c9313",
   "metadata": {},
   "outputs": [
    {
     "name": "stdout",
     "output_type": "stream",
     "text": [
      "Top 5 Net worth Companies in millions \n",
      "958     150000.0\n",
      "1095      1000.0\n",
      "170        840.0\n",
      "938        800.0\n",
      "641        660.0\n",
      "Name: Amount, dtype: float64\n"
     ]
    }
   ],
   "source": [
    "#To Get Top 5 Networth Companies\n",
    "net_worth = df['Amount'].sort_values(ascending = False).head(5)\n",
    "net_worth=net_worth/1000000\n",
    "print(f'Top 5 Net worth Companies in millions \\n{net_worth}')"
   ]
  },
  {
   "cell_type": "markdown",
   "id": "a7f76824-5cc8-43c9-84e6-9fe12961dee1",
   "metadata": {},
   "source": [
    "# Summary"
   ]
  },
  {
   "cell_type": "markdown",
   "id": "a8ffcf12-c522-43bb-9505-6221d76c6d39",
   "metadata": {},
   "source": [
    "- Financial technology and educational technology are the sectors to which the majority of startups belong, accounting for a total share of 18.4% of all startups."
   ]
  },
  {
   "cell_type": "markdown",
   "id": "fcd3c6d6-5203-4d06-bb4f-a085a47b771b",
   "metadata": {},
   "source": [
    "- The total number of startups equals 1208."
   ]
  },
  {
   "cell_type": "markdown",
   "id": "f755118b-0cd5-4bcf-a6dd-7ed113fb236e",
   "metadata": {},
   "source": [
    "- Bangalore is home to the highest number of startups in the country."
   ]
  },
  {
   "cell_type": "markdown",
   "id": "c0f68251-230f-46c4-b94b-8190ab3d2a14",
   "metadata": {},
   "source": [
    "- The number of startups has steeply increased since 2010 compared to the early 2000s, showing an increase of nearly 1100%."
   ]
  },
  {
   "cell_type": "code",
   "execution_count": null,
   "id": "6b39eca2-a587-4a78-962a-f276333b012d",
   "metadata": {},
   "outputs": [],
   "source": []
  }
 ],
 "metadata": {
  "kernelspec": {
   "display_name": "Python 3 (ipykernel)",
   "language": "python",
   "name": "python3"
  },
  "language_info": {
   "codemirror_mode": {
    "name": "ipython",
    "version": 3
   },
   "file_extension": ".py",
   "mimetype": "text/x-python",
   "name": "python",
   "nbconvert_exporter": "python",
   "pygments_lexer": "ipython3",
   "version": "3.12.4"
  }
 },
 "nbformat": 4,
 "nbformat_minor": 5
}
